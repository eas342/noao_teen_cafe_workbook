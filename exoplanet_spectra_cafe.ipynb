{
 "cells": [
  {
   "cell_type": "markdown",
   "metadata": {},
   "source": [
    "# Finding the Ingredients of Other Worlds\n",
    "\n",
    "##### By [Everett Schlawin](http://mips.as.arizona.edu/~schlawin/)\n",
    "\n",
    "In this simulator you will be recovering spectra from exoplanet systems to understand what their atmospheres are made of."
   ]
  },
  {
   "cell_type": "markdown",
   "metadata": {},
   "source": [
    "# Table of Contents\n",
    "\n",
    "* [How to Use This Notebook](#How-to-Use-This-Notebook)\n",
    "* [1. Introduction - Planet Lightcurves](#1.-Introduction:-Planet-Lightcurves)\n",
    "* [2. Planet Radius](#2.-Planet-Radius)\n",
    "* [3. A Planet Spectrum](#3.-A-Planet-Spectrum)\n",
    "* [4. Example Planet Atmospheres](#4.-Example-Planet-Atmospheres)\n",
    "* [5. Mystery Planet Atmospheres](#5.-Mystery-Planet-Atmospheres)"
   ]
  },
  {
   "cell_type": "markdown",
   "metadata": {},
   "source": [
    "# How to Use This Notebook\n",
    "\n",
    "The webpage you are in is actually an app - much like the ones on your cellphone. This app consists of cells.\n",
    "\n",
    "An *input* cell looks like a light grey box with an `In [ ]:` on its left. Input cells each contain code - instructions to make the computer do something.\n",
    "\n",
    "To activate or select a cell, click anywhere inside of it.\n",
    "\n",
    "<div class='alert alert-info'>\n",
    "    <font size='3'><b>Select the cell below and read its contents.</b></font>\n",
    "</div>"
   ]
  },
  {
   "cell_type": "code",
   "execution_count": null,
   "metadata": {},
   "outputs": [],
   "source": [
    "# Text that follows a \"#\" is known as a comment.\n",
    "# Comments do not affect your code in any way.\n",
    "# You should always read the comments at the top of each cell you interact with.\n",
    "# Comments will be used to describe what the cell's code is actually doing."
   ]
  },
  {
   "cell_type": "markdown",
   "metadata": {},
   "source": [
    "To execute or run a selected cell, hit `[Shift + Enter]` on your keyboard.\n",
    "\n",
    "<div class='alert alert-info'>\n",
    "    <font size='3'><b>Select the cell below and read its contents. Then, run the cell.</b></font>\n",
    "</div>"
   ]
  },
  {
   "cell_type": "code",
   "execution_count": null,
   "metadata": {},
   "outputs": [],
   "source": [
    "# Text that DOESN'T follow a \"#\" is considered code.\n",
    "# Lines of code are instructions given to your computer.\n",
    "# The line of code below is a \"print\" statement.\n",
    "# A print statement literally prints out the text between its quotes.\n",
    "\n",
    "print(\"Congrats! You have successfully run your first cell!\")"
   ]
  },
  {
   "cell_type": "markdown",
   "metadata": {},
   "source": [
    "Running a cell creates an *output* directly below it. An output can be some text, a graph, an interactive slider, or even nothing at all! For that last case, you know you have run a cell when the `In [ ]:` becomes `In [#]:`, where \"#\" is any number.\n",
    "\n",
    "You can learn more about how Jupyter notebooks work at https://try.jupyter.org/\n",
    "___"
   ]
  },
  {
   "cell_type": "markdown",
   "metadata": {},
   "source": [
    "<div class='alert alert-info'>\n",
    "    <font size='3'><b>Hover your cursor over the green text below.</b></font>\n",
    "</div>"
   ]
  },
  {
   "cell_type": "markdown",
   "metadata": {},
   "source": [
    "Finally, there will be some <span title=\"Terminology is special language used science as a shortcut\"><font color='green'>terminology</font></span> used in this notebook. You can hover over the text for more information."
   ]
  },
  {
   "cell_type": "markdown",
   "metadata": {},
   "source": [
    "# 1. Introduction: Planet Lightcurves\n",
    "Start by importing the necessary code.\n",
    "<div class='alert alert-info'>\n",
    "    <font size='3'><b>Run the cell below.</b></font>\n",
    "</div>\n"
   ]
  },
  {
   "cell_type": "code",
   "execution_count": null,
   "metadata": {},
   "outputs": [],
   "source": [
    "import exo_engine"
   ]
  },
  {
   "cell_type": "markdown",
   "metadata": {},
   "source": [
    "Let's start with an <span title=\"This is a plot that shows how the brightness of a star + planet system changes as a function of time as the planet goes in front of the star\"><font color='green'>exoplanet transit lightcurve</font></span>. This is a plot that shows how the brightness of a star + planet system changes with time as the planet goes in front of the star. The **x** axis is the time in hours the **y** axis is the brightness in percent. The time is shown relative to <span title=\"This is the moment when a planet and star line up\"><font color='green'>central transit</font></span>, which is when the planet and star line up.\n",
    "\n",
    "<div class='alert alert-info'>\n",
    "    <font size='3'><b>Run the cell below.</b></font>\n",
    "</div>\n"
   ]
  },
  {
   "cell_type": "code",
   "execution_count": null,
   "metadata": {},
   "outputs": [],
   "source": [
    "exo_engine.plt.rcParams.update({'font.size': 18,'figure.figsize': (10,8)})\n",
    "exo_engine.plot_initial_lc()"
   ]
  },
  {
   "cell_type": "markdown",
   "metadata": {},
   "source": [
    "Compare this to an animation from J Eastman (Penn State University) to see geometrically what is happening when a planet crosses in front of a star."
   ]
  },
  {
   "cell_type": "markdown",
   "metadata": {},
   "source": [
    "![SegmentLocal](HAT-P-3b-xpb0j3_eastman_psu.gif \"segment\")"
   ]
  },
  {
   "cell_type": "markdown",
   "metadata": {},
   "source": [
    "# 2. Planet Radius\n",
    "The next plot is another <span title=\"This is a plot that shows how the brightness of a star + planet system changes as a function of time as the planet goes in front of the star\"><font color='green'>exoplanet transit lightcurve</font></span>. Now, we have added a new variable, the planet radius. Here, we give the planet radius in <span title=\"The radius of Jupiter is about 44,000 miles. You could fit about 11 Earths across Jupiter and about 10 Jupiters across the sun.\"><font color='green'>Jupiter radii</font></span>. The radius of Jupiter is about 11 times that of Earth or about 1/10 the radius of the sun. It is 44,000 miles.\n",
    "\n",
    "\n",
    "<div class='alert alert-info'>\n",
    "    <font size='3'><b>Run the cell below. Experiment with different values for the planet radius.</b></font>\n",
    "</div>\n"
   ]
  },
  {
   "cell_type": "code",
   "execution_count": null,
   "metadata": {},
   "outputs": [],
   "source": [
    "rad = exo_engine.plot_interactive_rad()\n"
   ]
  },
  {
   "cell_type": "markdown",
   "metadata": {},
   "source": [
    "<div class='alert alert-warning'>\n",
    "    <font size='3'><b>Does increasing the planet radius make the dip deeper or shallower?</b></font>\n",
    "</div>\n",
    "\n"
   ]
  },
  {
   "cell_type": "markdown",
   "metadata": {},
   "source": [
    "# 3. A Planet Spectrum"
   ]
  },
  {
   "cell_type": "markdown",
   "metadata": {},
   "source": [
    "Now let's explore what happens if a planet has an atmosphere. Some colors of light (<span title=\"The wavelength of light is the distance between light waves (oscillations) and is noticeable to our eyes as different colors\"><font color='green'>wavelengths</font></span>) will pass through the atmosphere whereas some colors of light will get absorbed or scattered. You can notice this on the Earth during sunsets where blue light is scattered away by the atmosphere and red light passes through the atmosphere. From the perspective of space, the Earth looks slightly bigger at blue <span title=\"The wavelength of light is the distance between light waves (oscillations) and is noticeable to our eyes as different colors\"><font color='green'>wavelengths</font></span> than red. Let's look at what happens to the effective size of a planet at each color when you add an atmosphere to a planet. The slider below controls the thickness of the atmosphere in Jupiter radii. The **x** and **y** axes are effectively rulers to measure the size of the planet in <span title=\"The radius of Jupiter is about 44,000 miles. You could fit about 11 Earths across Jupiter and about 10 Jupiters across the sun.\"><font color='green'>Jupiter radii</font></span>.\n",
    "\n",
    "<div class='alert alert-info'>\n",
    "    <font size='3'><b>Run the cell below. Experiment with different values for the atmospheric thickness.</b></font>\n",
    "</div>\n",
    "\n"
   ]
  },
  {
   "cell_type": "code",
   "execution_count": null,
   "metadata": {
    "scrolled": false
   },
   "outputs": [],
   "source": [
    "exampleSpec = exo_engine.spectral_lc()\n",
    "exampleSpec.visualize_colors_i()\n"
   ]
  },
  {
   "cell_type": "markdown",
   "metadata": {},
   "source": [
    "<div class='alert alert-warning'>\n",
    "    <font size='3'><b>At which color does the planet appear biggest?</b></font><br>\n",
    "    <font size='3'><b>Would a planet show color if it had no atmosphere?</b></font>\n",
    "\n",
    "</div>\n"
   ]
  },
  {
   "cell_type": "markdown",
   "metadata": {},
   "source": [
    "Show the spectrum of the planet. What color will it's sillhoutte have? [Explain Jupiter radii and microns.]"
   ]
  },
  {
   "cell_type": "markdown",
   "metadata": {},
   "source": [
    "<div class='alert alert-danger'>\n",
    "    <font size='3'><b>Delete the cell below in the final version.</b></font>\n",
    "</div>\n",
    "\n"
   ]
  },
  {
   "cell_type": "code",
   "execution_count": null,
   "metadata": {},
   "outputs": [],
   "source": [
    "from importlib import reload\n",
    "reload(exo_engine)"
   ]
  },
  {
   "cell_type": "code",
   "execution_count": null,
   "metadata": {},
   "outputs": [],
   "source": [
    "exampleSpec.spectrum_plot_i()"
   ]
  },
  {
   "cell_type": "markdown",
   "metadata": {},
   "source": [
    "Now that we have some understanding of <font color='green'>exoplanet transit lightcurves</font>, we'll examine them at different colors of light (wavelengths). The lightcurve and planet radius can be different from one color to the next because some light passes through the atmosphere while other light is absorbed. You will now examine the lightcurve for different colors with a variable for the thickness of an atmosphere\n",
    "\n",
    "And now look at the lightcurves for different colors [of light.] [Explain that the light curve can be different for different colors, and that the slope is the thickness of the atmosphere, and what a central transit is. Maybe percentage of star surface coverage instead of decimal laces on the y axis? Fix colors to be in ROYGBV order?]"
   ]
  },
  {
   "cell_type": "code",
   "execution_count": null,
   "metadata": {},
   "outputs": [],
   "source": [
    "exampleSpec.plot_lc_multicolor()\n"
   ]
  },
  {
   "cell_type": "markdown",
   "metadata": {},
   "source": [
    "# 4. Example Planet Atmospheres\n",
    "\n",
    "Now that we have a feeling for how planet spectra work, let's consider different types of atmospheres. The atmospheric sizes have been extended [exaggerated? been made larger here than in reality to make it easer to see?] for clarity. [explain why the atmospheres look the way they do- especially why the cloudy one is a flat line]"
   ]
  },
  {
   "cell_type": "markdown",
   "metadata": {},
   "source": [
    "#### A water vapor atmosphere"
   ]
  },
  {
   "cell_type": "code",
   "execution_count": null,
   "metadata": {},
   "outputs": [],
   "source": [
    "exo_engine.show_example_spectra(['H2O'])"
   ]
  },
  {
   "cell_type": "markdown",
   "metadata": {},
   "source": [
    "#### A methane atmosphere"
   ]
  },
  {
   "cell_type": "code",
   "execution_count": null,
   "metadata": {},
   "outputs": [],
   "source": [
    "exo_engine.show_example_spectra(['CH4'])"
   ]
  },
  {
   "cell_type": "markdown",
   "metadata": {},
   "source": [
    "#### A Carbon Dioxide Atmosphere"
   ]
  },
  {
   "cell_type": "code",
   "execution_count": null,
   "metadata": {},
   "outputs": [],
   "source": [
    "exo_engine.show_example_spectra(['CO2'])"
   ]
  },
  {
   "cell_type": "markdown",
   "metadata": {},
   "source": [
    "#### A Cloudy Atmoshpere"
   ]
  },
  {
   "cell_type": "code",
   "execution_count": null,
   "metadata": {},
   "outputs": [],
   "source": [
    "exo_engine.show_example_spectra(['Cloudy'])"
   ]
  },
  {
   "cell_type": "markdown",
   "metadata": {},
   "source": [
    "# 5. Mystery Planet Atmospheres\n",
    "\n",
    "You are now playing the role of an astronomer. You measure the lightcurve of a planet at different colors. (Black Points with error bars). Drag the sliders to best-fit the data [to move the line to match the  points of each color, forming a line of best fit.] [metion that students will need to reload the cell to make the final graph take its shape] [Alert student sthat reloading the cell with the sliders that it will restart the sliders]\n"
   ]
  },
  {
   "cell_type": "markdown",
   "metadata": {},
   "source": [
    "#### Mystery Planet 1"
   ]
  },
  {
   "cell_type": "code",
   "execution_count": null,
   "metadata": {},
   "outputs": [],
   "source": [
    "atm1 = exo_engine.atmospheric_lc(1)\n",
    "atm1.plot_lc_i()"
   ]
  },
  {
   "cell_type": "markdown",
   "metadata": {},
   "source": [
    "Now plot the spectrum that you found. You can compare to a compact set of templates underneath."
   ]
  },
  {
   "cell_type": "code",
   "execution_count": null,
   "metadata": {},
   "outputs": [],
   "source": [
    "atm1.plot_spectrum()"
   ]
  },
  {
   "cell_type": "code",
   "execution_count": null,
   "metadata": {
    "scrolled": false
   },
   "outputs": [],
   "source": [
    "exo_engine.show_example_spectra()"
   ]
  },
  {
   "cell_type": "markdown",
   "metadata": {},
   "source": [
    "#### Mystery Planet 2"
   ]
  },
  {
   "cell_type": "code",
   "execution_count": null,
   "metadata": {},
   "outputs": [],
   "source": [
    "atm2 = exo_engine.atmospheric_lc(2)\n",
    "atm2.plot_lc_i()"
   ]
  },
  {
   "cell_type": "markdown",
   "metadata": {},
   "source": [
    "Now plot the spectrum that you found. Scroll up What kind of atmosphere did you find? You can compare to a compact set of templates underneath."
   ]
  },
  {
   "cell_type": "code",
   "execution_count": null,
   "metadata": {},
   "outputs": [],
   "source": [
    "atm2.plot_spectrum()"
   ]
  },
  {
   "cell_type": "code",
   "execution_count": null,
   "metadata": {
    "scrolled": false
   },
   "outputs": [],
   "source": [
    "exo_engine.show_example_spectra()"
   ]
  },
  {
   "cell_type": "markdown",
   "metadata": {},
   "source": [
    "#### Mystery Planet 3"
   ]
  },
  {
   "cell_type": "code",
   "execution_count": null,
   "metadata": {
    "scrolled": false
   },
   "outputs": [],
   "source": [
    "atm3 = exo_engine.atmospheric_lc(3)\n",
    "atm3.plot_lc_i()"
   ]
  },
  {
   "cell_type": "markdown",
   "metadata": {},
   "source": [
    "Now plot the spectrum that you found. Scroll up What kind of atmosphere did you find? You can compare to a compact set of templates underneath."
   ]
  },
  {
   "cell_type": "code",
   "execution_count": null,
   "metadata": {},
   "outputs": [],
   "source": [
    "atm3.plot_spectrum()"
   ]
  },
  {
   "cell_type": "code",
   "execution_count": null,
   "metadata": {
    "scrolled": false
   },
   "outputs": [],
   "source": [
    "exo_engine.show_example_spectra()"
   ]
  },
  {
   "cell_type": "markdown",
   "metadata": {},
   "source": [
    "#### Mystery Planet 4"
   ]
  },
  {
   "cell_type": "code",
   "execution_count": null,
   "metadata": {},
   "outputs": [],
   "source": [
    "atm4 = exo_engine.atmospheric_lc(4)\n",
    "atm4.plot_lc_i()"
   ]
  },
  {
   "cell_type": "markdown",
   "metadata": {},
   "source": [
    "Now plot the spectrum that you found. Scroll up What kind of atmosphere did you find? You can compare to a compact set of templates underneath."
   ]
  },
  {
   "cell_type": "code",
   "execution_count": null,
   "metadata": {},
   "outputs": [],
   "source": [
    "atm4.plot_spectrum()"
   ]
  },
  {
   "cell_type": "code",
   "execution_count": null,
   "metadata": {
    "scrolled": false
   },
   "outputs": [],
   "source": [
    "exo_engine.show_example_spectra()"
   ]
  },
  {
   "cell_type": "code",
   "execution_count": null,
   "metadata": {},
   "outputs": [],
   "source": []
  },
  {
   "cell_type": "code",
   "execution_count": null,
   "metadata": {},
   "outputs": [],
   "source": []
  }
 ],
 "metadata": {
  "kernelspec": {
   "display_name": "Python 3",
   "language": "python",
   "name": "python3"
  },
  "language_info": {
   "codemirror_mode": {
    "name": "ipython",
    "version": 3
   },
   "file_extension": ".py",
   "mimetype": "text/x-python",
   "name": "python",
   "nbconvert_exporter": "python",
   "pygments_lexer": "ipython3",
   "version": "3.6.7"
  }
 },
 "nbformat": 4,
 "nbformat_minor": 2
}
