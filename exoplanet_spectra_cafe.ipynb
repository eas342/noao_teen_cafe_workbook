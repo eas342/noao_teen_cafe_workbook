{
 "cells": [
  {
   "cell_type": "markdown",
   "metadata": {},
   "source": [
    "# Finding the Ingredients of Other Worlds\n",
    "\n",
    "##### By [Everett Schlawin](http://mips.as.arizona.edu/~schlawin/)\n",
    "\n",
    "In this simulator you will be recovering spectra from exoplanet systems to understand what their atmospheres are made of."
   ]
  },
  {
   "cell_type": "markdown",
   "metadata": {},
   "source": [
    "# Table of Contents\n",
    "\n",
    "* [How to Use This Notebook](#How-to-Use-This-Notebook)\n",
    "* [1. Introduction - Planet Lightcurves](#1.-Introduction:-Planet-Lightcurves)\n",
    "* [2. Planet Radius](#2.-Planet-Radius)\n",
    "* [3. A Planet Spectrum](#3.-A-Planet-Spectrum)\n"
   ]
  },
  {
   "cell_type": "markdown",
   "metadata": {},
   "source": [
    "# How to Use This Notebook\n",
    "\n",
    "The webpage you are in is actually an app - much like the ones on your cellphone. This app consists of cells.\n",
    "\n",
    "An *input* cell looks like a light grey box with an `In [ ]:` on its left. Input cells each contain code - instructions to make the computer do something.\n",
    "\n",
    "To activate or select a cell, click anywhere inside of it.\n",
    "\n",
    "<div class='alert alert-info'>\n",
    "    <font size='3'><b>Select the cell below and read its contents.</b></font>\n",
    "</div>"
   ]
  },
  {
   "cell_type": "code",
   "execution_count": null,
   "metadata": {},
   "outputs": [],
   "source": [
    "# Text that follows a \"#\" is known as a comment.\n",
    "# Comments do not affect your code in any way.\n",
    "# You should always read the comments at the top of each cell you interact with.\n",
    "# Comments will be used to describe what the cell's code is actually doing."
   ]
  },
  {
   "cell_type": "markdown",
   "metadata": {},
   "source": [
    "To execute or run a selected cell, hit `[Shift + Enter]` on your keyboard.\n",
    "\n",
    "<div class='alert alert-info'>\n",
    "    <font size='3'><b>Select the cell below and read its contents. Then, run the cell.</b></font>\n",
    "</div>"
   ]
  },
  {
   "cell_type": "code",
   "execution_count": null,
   "metadata": {},
   "outputs": [],
   "source": [
    "# Text that DOESN'T follow a \"#\" is considered code.\n",
    "# Lines of code are instructions given to your computer.\n",
    "# The line of code below is a \"print\" statement.\n",
    "# A print statement literally prints out the text between its quotes.\n",
    "\n",
    "print(\"Congrats! You have successfully run your first cell!\")"
   ]
  },
  {
   "cell_type": "markdown",
   "metadata": {},
   "source": [
    "Running a cell creates an *output* directly below it. An output can be some text, a graph, an interactive slider, or even nothing at all! For that last case, you know you have run a cell when the `In [ ]:` becomes `In [#]:`, where \"#\" is any number.\n",
    "\n",
    "You can learn more about how Jupyter notebooks work at https://try.jupyter.org/\n",
    "___"
   ]
  },
  {
   "cell_type": "markdown",
   "metadata": {},
   "source": [
    "# 1. Introduction: Planet Lightcurves\n",
    "Importing the necessary code\n"
   ]
  },
  {
   "cell_type": "code",
   "execution_count": null,
   "metadata": {},
   "outputs": [],
   "source": [
    "import exo_engine"
   ]
  },
  {
   "cell_type": "markdown",
   "metadata": {},
   "source": [
    "Start with an exoplanet transit lightcuve. This is a plot that shows how the brightness of a planet and star change with time as the planet goes in front of the star."
   ]
  },
  {
   "cell_type": "code",
   "execution_count": null,
   "metadata": {},
   "outputs": [],
   "source": [
    "exo_engine.plot_initial_lc()"
   ]
  },
  {
   "cell_type": "markdown",
   "metadata": {},
   "source": [
    "Compare this to an animation from J Eastman (Penn State University) to see geometrically what is happening when a planet crosses in front of a star."
   ]
  },
  {
   "cell_type": "markdown",
   "metadata": {},
   "source": [
    "![SegmentLocal](HAT-P-3b-xpb0j3_eastman_psu.gif \"segment\")"
   ]
  },
  {
   "cell_type": "markdown",
   "metadata": {},
   "source": [
    "# 2. Planet Radius\n",
    "Experiment what happens at different radii and limb darkening. Does increasing the radius make the dip deeper or shallower? Below is an example with 2 different limb darkening parameters."
   ]
  },
  {
   "cell_type": "code",
   "execution_count": null,
   "metadata": {},
   "outputs": [],
   "source": [
    "rad = exo_engine.plot_interactive_rad()\n"
   ]
  },
  {
   "cell_type": "markdown",
   "metadata": {},
   "source": [
    "# 3. A Planet Spectrum"
   ]
  },
  {
   "cell_type": "markdown",
   "metadata": {},
   "source": [
    "And now look at the lightcurves for different colors"
   ]
  },
  {
   "cell_type": "code",
   "execution_count": null,
   "metadata": {},
   "outputs": [],
   "source": [
    "from importlib import reload\n",
    "reload(exo_engine)\n",
    "\n",
    "exampleSpec = exo_engine.spectral_lc()\n",
    "exampleSpec.plot_lc_multicolor()\n"
   ]
  },
  {
   "cell_type": "markdown",
   "metadata": {},
   "source": [
    "Show the spectrum of the planet. What color will it's sillhoutte have?"
   ]
  },
  {
   "cell_type": "code",
   "execution_count": null,
   "metadata": {},
   "outputs": [],
   "source": [
    "exampleSpec.spectrum_plot_i()\n",
    "\n"
   ]
  },
  {
   "cell_type": "markdown",
   "metadata": {},
   "source": [
    "Visualize the surfaces of the planet at each color"
   ]
  },
  {
   "cell_type": "code",
   "execution_count": null,
   "metadata": {},
   "outputs": [],
   "source": [
    "from importlib import reload ## This can be taken out in final version\n",
    "reload(exo_engine) ## This can be taken out in final version\n",
    "exampleSpec = exo_engine.spectral_lc()\n",
    "\n",
    "exampleSpec.visualize_colors_i()\n",
    "\n"
   ]
  },
  {
   "cell_type": "markdown",
   "metadata": {},
   "source": [
    "Now, what color do you think the sillhoutte will have?"
   ]
  },
  {
   "cell_type": "markdown",
   "metadata": {},
   "source": [
    "## Now put in the star"
   ]
  },
  {
   "cell_type": "code",
   "execution_count": null,
   "metadata": {},
   "outputs": [],
   "source": [
    "## Now put in a background star\n",
    "fig, ax = plt.subplots(figsize=(8,8))\n",
    "ax.set_aspect('equal')\n",
    "ax.set_xlim(-1.3,1.3)\n",
    "ax.set_ylim(-1.3,1.3)\n",
    "\n",
    "circlePatch = plt.Circle((0., 0.), 10.,\n",
    "                         edgecolor=one_color,facecolor='yellow')\n",
    "ax.add_artist(circlePatch)\n",
    "circlePatch = plt.Circle((0., 0.), np.min(radius_array) * 10.,\n",
    "                         edgecolor='none',facecolor='black')\n",
    "ax.add_artist(circlePatch)\n",
    "\n",
    "sortInd = np.argsort(radius_array)\n",
    "for ind in sortInd:\n",
    "    thisRadius = radius_array[ind]\n",
    "    for max_radius,one_color in zip(radius_array,colors_array):\n",
    "\n",
    "        if thisRadius >= max_radius:\n",
    "            circlePatch = plt.Circle((0., 0.), max_radius * 10.,linewidth=3,\n",
    "                         edgecolor=one_color,facecolor='none',alpha=0.2)\n",
    "            ax.add_artist(circlePatch)\n",
    "\n",
    "ax.set_xlabel('X Size in Jupiters')\n",
    "ax.set_ylabel('Y Size in Jupiters')\n"
   ]
  },
  {
   "cell_type": "markdown",
   "metadata": {},
   "source": [
    "## An exoplanet Atmosphere with Molecules\n",
    "Now interpret the lightcurves "
   ]
  },
  {
   "cell_type": "code",
   "execution_count": null,
   "metadata": {},
   "outputs": [],
   "source": [
    "dat = Table.read('opacity_breakdown_gto_f_hd189733b.fits')\n",
    "for oneColumn in dat.colnames:\n",
    "    if oneColumn != 'Wave':\n",
    "        plt.semilogx(dat['Wave'],dat[oneColumn] * 100.,label=oneColumn)\n",
    "plt.legend()\n",
    "plt.xlabel('Wavelength ($\\mu$m)')\n",
    "plt.ylabel('Transit Depth (%)')"
   ]
  },
  {
   "cell_type": "code",
   "execution_count": null,
   "metadata": {},
   "outputs": [],
   "source": [
    "dat.colnames"
   ]
  },
  {
   "cell_type": "markdown",
   "metadata": {},
   "source": [
    "Look what happens when there are clouds:"
   ]
  },
  {
   "cell_type": "code",
   "execution_count": null,
   "metadata": {},
   "outputs": [],
   "source": []
  }
 ],
 "metadata": {
  "kernelspec": {
   "display_name": "Python 3",
   "language": "python",
   "name": "python3"
  },
  "language_info": {
   "codemirror_mode": {
    "name": "ipython",
    "version": 3
   },
   "file_extension": ".py",
   "mimetype": "text/x-python",
   "name": "python",
   "nbconvert_exporter": "python",
   "pygments_lexer": "ipython3",
   "version": "3.6.7"
  }
 },
 "nbformat": 4,
 "nbformat_minor": 2
}
